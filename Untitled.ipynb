{
 "cells": [
  {
   "cell_type": "code",
   "execution_count": 21,
   "id": "533c4d0d",
   "metadata": {},
   "outputs": [],
   "source": [
    "import backtrader as bt\n",
    "import datetime\n",
    "import matplotlib\n",
    "import math\n",
    "import talib\n",
    "import numpy as np"
   ]
  },
  {
   "cell_type": "code",
   "execution_count": 22,
   "id": "208d3fe1",
   "metadata": {},
   "outputs": [],
   "source": [
    "class Cross(bt.Strategy):\n",
    "    params = (('fast',50),('slow',200),('order_percentage',0.95),('ticker','SPY'))\n",
    "    \n",
    "    def __init__(self):\n",
    "        self.fast_moving_average = bt.indicators.SMA(\n",
    "            self.data.close,period = self.params.fast,plotname= '50days'\n",
    "        )\n",
    "        \n",
    "        self.slow_moving_average = bt.indicators.SMA(\n",
    "            self.data.close,period = self.params.slow,plotname= '200days'\n",
    "        )\n",
    "        \n",
    "        self.crossover = bt.indicators.CrossOver(self.fast_moving_average, self.slow_moving_average)\n",
    "    \n",
    "    def next(self):\n",
    "        if self.position.size == 0:\n",
    "            if self.crossover > 0:\n",
    "                amount_to_invest = (self.params.order_percentage * self.broker.cash)\n",
    "                self.size = math.floor(amount_to_invest / self.data.close)\n",
    "                self.buy(size=self.size)\n",
    "                \n",
    "        if self.position.size > 0:\n",
    "            if self.crossover < 0:\n",
    "                self.close()  "
   ]
  },
  {
   "cell_type": "code",
   "execution_count": 26,
   "id": "043b3c09",
   "metadata": {},
   "outputs": [],
   "source": [
    "class RsiSignalStrategy(bt.SignalStrategy):\n",
    "    params = dict(\n",
    "\t\trsi_periods=14,\n",
    "\t\t\t\t  rsi_upper=70,\n",
    "\t\t\t\t  rsi_lower=30,\n",
    "\t\t\t\t  rsi_mid=50\n",
    "\t)\n",
    "\n",
    "    def __init__(self):\n",
    "\n",
    "        # add RSI indicator\n",
    "        rsi = bt.indicators.RSI(period=self.p.rsi_periods,\n",
    "                                upperband=self.p.rsi_upper,\n",
    "                                lowerband=self.p.rsi_lower)\n",
    "\n",
    "        # add RSI from TA-lib just for reference\n",
    "        talib.RSI(np.array(self.data))\n",
    "\n",
    "        # long condition (with exit)\n",
    "        rsi_signal_long = bt.ind.CrossUp(rsi, self.p.rsi_lower, plot=False)\n",
    "        # Add long signal one, that is, the RSI value on the 14th will exceed 30\n",
    "        self.signal_add(bt.SIGNAL_LONG, rsi_signal_long)\n",
    "        # LONGEXIT: short indications are taken to exit long positions\n",
    "\t\t # Add long exit signal, the RSi value on the 14th is greater than 50\n",
    "        self.signal_add(bt.SIGNAL_LONGEXIT, -(rsi > self.p.rsi_mid))\n",
    "\n",
    "        # short condition (with exit)\n",
    "        rsi_signal_short = -bt.ind.CrossDown(rsi, self.p.rsi_upper, plot=False)\n",
    "                 # Add a short signal, that is, the RSI value crossed 70 on the 14th.\n",
    "        self.signal_add(bt.SIGNAL_SHORT, rsi_signal_short)\n",
    "\t\t# SHORTEXIT: long indications are taken to exit short positions\n",
    "\t\t # Add short exit signal, the RSi value on the 14th is less than 50\n",
    "        self.signal_add(bt.SIGNAL_SHORTEXIT, rsi < self.p.rsi_mid )"
   ]
  },
  {
   "cell_type": "code",
   "execution_count": 27,
   "id": "182fe67d",
   "metadata": {},
   "outputs": [
    {
     "name": "stdout",
     "output_type": "stream",
     "text": [
      "Starting Portfolio Value: 100000.00\n",
      "Final Portfolio Value: 99997.05\n"
     ]
    }
   ],
   "source": [
    "cerebro = bt.Cerebro()\n",
    "cerebro.broker.setcash(100000.0)\n",
    "\n",
    "data = bt.feeds.YahooFinanceCSVData(\n",
    "        dataname='1.csv',\n",
    "        # Do not pass values before this date\n",
    "        fromdate=datetime.datetime(2005, 1, 1),\n",
    "        # Do not pass values after this date\n",
    "        todate=datetime.datetime(2013, 12, 31),\n",
    "        reverse=False)\n",
    "\n",
    "cerebro.adddata(data)\n",
    "cerebro.addstrategy(RsiSignalStrategy)\n",
    "\n",
    "    \n",
    "print('Starting Portfolio Value: %.2f' % cerebro.broker.getvalue())\n",
    "\n",
    "cerebro.run()\n",
    "\n",
    "print('Final Portfolio Value: %.2f' % cerebro.broker.getvalue())"
   ]
  },
  {
   "cell_type": "code",
   "execution_count": 65,
   "id": "2e0c5327",
   "metadata": {},
   "outputs": [
    {
     "ename": "ImportError",
     "evalue": "cannot import name 'warnings' from 'matplotlib.dates' (/Users/raghavaggarwal/opt/anaconda3/lib/python3.8/site-packages/matplotlib/dates.py)",
     "output_type": "error",
     "traceback": [
      "\u001b[0;31m---------------------------------------------------------------------------\u001b[0m",
      "\u001b[0;31mImportError\u001b[0m                               Traceback (most recent call last)",
      "\u001b[0;32m<ipython-input-65-b0ebeba5517a>\u001b[0m in \u001b[0;36m<module>\u001b[0;34m\u001b[0m\n\u001b[0;32m----> 1\u001b[0;31m \u001b[0mcerebro\u001b[0m\u001b[0;34m.\u001b[0m\u001b[0mplot\u001b[0m\u001b[0;34m(\u001b[0m\u001b[0;34m)\u001b[0m\u001b[0;34m\u001b[0m\u001b[0;34m\u001b[0m\u001b[0m\n\u001b[0m",
      "\u001b[0;32m~/opt/anaconda3/lib/python3.8/site-packages/backtrader/cerebro.py\u001b[0m in \u001b[0;36mplot\u001b[0;34m(self, plotter, numfigs, iplot, start, end, width, height, dpi, tight, use, **kwargs)\u001b[0m\n\u001b[1;32m    972\u001b[0m \u001b[0;34m\u001b[0m\u001b[0m\n\u001b[1;32m    973\u001b[0m         \u001b[0;32mif\u001b[0m \u001b[0;32mnot\u001b[0m \u001b[0mplotter\u001b[0m\u001b[0;34m:\u001b[0m\u001b[0;34m\u001b[0m\u001b[0;34m\u001b[0m\u001b[0m\n\u001b[0;32m--> 974\u001b[0;31m             \u001b[0;32mfrom\u001b[0m \u001b[0;34m.\u001b[0m \u001b[0;32mimport\u001b[0m \u001b[0mplot\u001b[0m\u001b[0;34m\u001b[0m\u001b[0;34m\u001b[0m\u001b[0m\n\u001b[0m\u001b[1;32m    975\u001b[0m             \u001b[0;32mif\u001b[0m \u001b[0mself\u001b[0m\u001b[0;34m.\u001b[0m\u001b[0mp\u001b[0m\u001b[0;34m.\u001b[0m\u001b[0moldsync\u001b[0m\u001b[0;34m:\u001b[0m\u001b[0;34m\u001b[0m\u001b[0;34m\u001b[0m\u001b[0m\n\u001b[1;32m    976\u001b[0m                 \u001b[0mplotter\u001b[0m \u001b[0;34m=\u001b[0m \u001b[0mplot\u001b[0m\u001b[0;34m.\u001b[0m\u001b[0mPlot_OldSync\u001b[0m\u001b[0;34m(\u001b[0m\u001b[0;34m**\u001b[0m\u001b[0mkwargs\u001b[0m\u001b[0;34m)\u001b[0m\u001b[0;34m\u001b[0m\u001b[0;34m\u001b[0m\u001b[0m\n",
      "\u001b[0;32m~/opt/anaconda3/lib/python3.8/site-packages/backtrader/plot/__init__.py\u001b[0m in \u001b[0;36m<module>\u001b[0;34m\u001b[0m\n\u001b[1;32m     40\u001b[0m \u001b[0;34m\u001b[0m\u001b[0m\n\u001b[1;32m     41\u001b[0m \u001b[0;34m\u001b[0m\u001b[0m\n\u001b[0;32m---> 42\u001b[0;31m \u001b[0;32mfrom\u001b[0m \u001b[0;34m.\u001b[0m\u001b[0mplot\u001b[0m \u001b[0;32mimport\u001b[0m \u001b[0mPlot\u001b[0m\u001b[0;34m,\u001b[0m \u001b[0mPlot_OldSync\u001b[0m\u001b[0;34m\u001b[0m\u001b[0;34m\u001b[0m\u001b[0m\n\u001b[0m\u001b[1;32m     43\u001b[0m \u001b[0;32mfrom\u001b[0m \u001b[0;34m.\u001b[0m\u001b[0mscheme\u001b[0m \u001b[0;32mimport\u001b[0m \u001b[0mPlotScheme\u001b[0m\u001b[0;34m\u001b[0m\u001b[0;34m\u001b[0m\u001b[0m\n",
      "\u001b[0;32m~/opt/anaconda3/lib/python3.8/site-packages/backtrader/plot/plot.py\u001b[0m in \u001b[0;36m<module>\u001b[0;34m\u001b[0m\n\u001b[1;32m     42\u001b[0m \u001b[0;32mfrom\u001b[0m \u001b[0;34m.\u001b[0m\u001b[0mfinance\u001b[0m \u001b[0;32mimport\u001b[0m \u001b[0mplot_candlestick\u001b[0m\u001b[0;34m,\u001b[0m \u001b[0mplot_ohlc\u001b[0m\u001b[0;34m,\u001b[0m \u001b[0mplot_volume\u001b[0m\u001b[0;34m,\u001b[0m \u001b[0mplot_lineonclose\u001b[0m\u001b[0;34m\u001b[0m\u001b[0;34m\u001b[0m\u001b[0m\n\u001b[1;32m     43\u001b[0m \u001b[0;32mfrom\u001b[0m \u001b[0;34m.\u001b[0m\u001b[0mformatters\u001b[0m \u001b[0;32mimport\u001b[0m \u001b[0;34m(\u001b[0m\u001b[0mMyVolFormatter\u001b[0m\u001b[0;34m,\u001b[0m \u001b[0mMyDateFormatter\u001b[0m\u001b[0;34m,\u001b[0m \u001b[0mgetlocator\u001b[0m\u001b[0;34m)\u001b[0m\u001b[0;34m\u001b[0m\u001b[0;34m\u001b[0m\u001b[0m\n\u001b[0;32m---> 44\u001b[0;31m \u001b[0;32mfrom\u001b[0m \u001b[0;34m.\u001b[0m \u001b[0;32mimport\u001b[0m \u001b[0mlocator\u001b[0m \u001b[0;32mas\u001b[0m \u001b[0mloc\u001b[0m\u001b[0;34m\u001b[0m\u001b[0;34m\u001b[0m\u001b[0m\n\u001b[0m\u001b[1;32m     45\u001b[0m \u001b[0;32mfrom\u001b[0m \u001b[0;34m.\u001b[0m\u001b[0mmulticursor\u001b[0m \u001b[0;32mimport\u001b[0m \u001b[0mMultiCursor\u001b[0m\u001b[0;34m\u001b[0m\u001b[0;34m\u001b[0m\u001b[0m\n\u001b[1;32m     46\u001b[0m \u001b[0;32mfrom\u001b[0m \u001b[0;34m.\u001b[0m\u001b[0mscheme\u001b[0m \u001b[0;32mimport\u001b[0m \u001b[0mPlotScheme\u001b[0m\u001b[0;34m\u001b[0m\u001b[0;34m\u001b[0m\u001b[0m\n",
      "\u001b[0;32m~/opt/anaconda3/lib/python3.8/site-packages/backtrader/plot/locator.py\u001b[0m in \u001b[0;36m<module>\u001b[0;34m\u001b[0m\n\u001b[1;32m     33\u001b[0m \u001b[0;32mfrom\u001b[0m \u001b[0mmatplotlib\u001b[0m\u001b[0;34m.\u001b[0m\u001b[0mdates\u001b[0m \u001b[0;32mimport\u001b[0m \u001b[0mAutoDateFormatter\u001b[0m \u001b[0;32mas\u001b[0m \u001b[0mADFormatter\u001b[0m\u001b[0;34m\u001b[0m\u001b[0;34m\u001b[0m\u001b[0m\n\u001b[1;32m     34\u001b[0m \u001b[0;34m\u001b[0m\u001b[0m\n\u001b[0;32m---> 35\u001b[0;31m from matplotlib.dates import (HOURS_PER_DAY, MIN_PER_HOUR, SEC_PER_MIN,\n\u001b[0m\u001b[1;32m     36\u001b[0m                               \u001b[0mMONTHS_PER_YEAR\u001b[0m\u001b[0;34m,\u001b[0m \u001b[0mDAYS_PER_WEEK\u001b[0m\u001b[0;34m,\u001b[0m\u001b[0;34m\u001b[0m\u001b[0;34m\u001b[0m\u001b[0m\n\u001b[1;32m     37\u001b[0m                               \u001b[0mSEC_PER_HOUR\u001b[0m\u001b[0;34m,\u001b[0m \u001b[0mSEC_PER_DAY\u001b[0m\u001b[0;34m,\u001b[0m\u001b[0;34m\u001b[0m\u001b[0;34m\u001b[0m\u001b[0m\n",
      "\u001b[0;31mImportError\u001b[0m: cannot import name 'warnings' from 'matplotlib.dates' (/Users/raghavaggarwal/opt/anaconda3/lib/python3.8/site-packages/matplotlib/dates.py)"
     ]
    }
   ],
   "source": [
    "cerebro.plot()"
   ]
  },
  {
   "cell_type": "code",
   "execution_count": 5,
   "id": "81a87a6a",
   "metadata": {},
   "outputs": [
    {
     "ename": "AttributeError",
     "evalue": "module 'backtrader.talib' has no attribute 'SMA'",
     "output_type": "error",
     "traceback": [
      "\u001b[0;31m---------------------------------------------------------------------------\u001b[0m",
      "\u001b[0;31mAttributeError\u001b[0m                            Traceback (most recent call last)",
      "\u001b[0;32m<ipython-input-5-0d220d322bb4>\u001b[0m in \u001b[0;36m<module>\u001b[0;34m\u001b[0m\n\u001b[0;32m----> 1\u001b[0;31m \u001b[0mprint\u001b[0m\u001b[0;34m(\u001b[0m\u001b[0mbt\u001b[0m\u001b[0;34m.\u001b[0m\u001b[0mtalib\u001b[0m\u001b[0;34m.\u001b[0m\u001b[0mSMA\u001b[0m\u001b[0;34m.\u001b[0m\u001b[0m__doc__\u001b[0m\u001b[0;34m)\u001b[0m\u001b[0;34m\u001b[0m\u001b[0;34m\u001b[0m\u001b[0m\n\u001b[0m",
      "\u001b[0;31mAttributeError\u001b[0m: module 'backtrader.talib' has no attribute 'SMA'"
     ]
    }
   ],
   "source": [
    "print(bt.talib.SMA.__doc__)"
   ]
  },
  {
   "cell_type": "code",
   "execution_count": null,
   "id": "1135a227",
   "metadata": {},
   "outputs": [],
   "source": []
  }
 ],
 "metadata": {
  "kernelspec": {
   "display_name": "Python 3",
   "language": "python",
   "name": "python3"
  },
  "language_info": {
   "codemirror_mode": {
    "name": "ipython",
    "version": 3
   },
   "file_extension": ".py",
   "mimetype": "text/x-python",
   "name": "python",
   "nbconvert_exporter": "python",
   "pygments_lexer": "ipython3",
   "version": "3.8.8"
  }
 },
 "nbformat": 4,
 "nbformat_minor": 5
}
